{
 "cells": [
  {
   "cell_type": "code",
   "execution_count": 45,
   "metadata": {},
   "outputs": [],
   "source": [
    "import numpy as np\n",
    "import pandas as pd\n",
    "strain_number=1\n",
    "medical='Gentamicin'\n",
    "# medical='Gentamicin'  #########################\n",
    "perc=0"
   ]
  },
  {
   "cell_type": "code",
   "execution_count": 46,
   "metadata": {},
   "outputs": [],
   "source": [
    "gene_lib=pd.read_csv(\"mic-library-simple.csv\")\n",
    "strain_info=pd.read_csv(\"strain_info_simple.csv\")\n",
    "gene_index=strain_info[\"index\"]\n",
    "strain_name=strain_info[0:0]\n",
    "strain_name=list(strain_name)\n",
    "mic_info=pd.read_csv(\"mic-gen.csv\",header=0)  ####################\n",
    "mic_amp=mic_info[\"mic-gen\"]  ######################\n",
    "mic_amp=list(mic_amp)"
   ]
  },
  {
   "cell_type": "markdown",
   "metadata": {},
   "source": [
    "函数定义"
   ]
  },
  {
   "cell_type": "code",
   "execution_count": 47,
   "metadata": {},
   "outputs": [],
   "source": [
    "def micinfo_1(strain_mic_info):\n",
    "    global perc\n",
    "    bug_fix=list()\n",
    "    if strain_mic_info == '1':\n",
    "        strain_gene_profile=strain_info[name]\n",
    "        strain_gene_profile=list(strain_gene_profile)\n",
    "        b=[i for i,v in enumerate(strain_gene_profile) if v==1]     #查找1的位置\n",
    "        for item in b:\n",
    "            gene_name=gene_index[item]\n",
    "            gene_certain_profile=gene_lib[gene_name]\n",
    "            gene_certain_profile=list(gene_certain_profile)\n",
    "            for every_thing in gene_certain_profile:\n",
    "                bug_fix.append(every_thing)\n",
    "            if medical in gene_certain_profile:\n",
    "                perc=perc+1\n",
    "            else:\n",
    "                perc=perc\n",
    "    else:\n",
    "        print('error')\n",
    "    print(perc)\n",
    "    "
   ]
  },
  {
   "cell_type": "code",
   "execution_count": 48,
   "metadata": {},
   "outputs": [],
   "source": [
    "def micinfo_0(strain_mic_info):\n",
    "    global perc\n",
    "    bug_fix=list()\n",
    "    if strain_mic_info == '0':\n",
    "        strain_gene_profile=strain_info[name]\n",
    "        strain_gene_profile=list(strain_gene_profile)\n",
    "        b=[i for i,v in enumerate(strain_gene_profile) if v==1]\n",
    "        for fix in b:\n",
    "            temp_name=gene_index[fix]\n",
    "            temp_certain_profile=gene_lib[temp_name]\n",
    "            temp_certain_profile=list(temp_certain_profile)\n",
    "            for every_thing in temp_certain_profile:\n",
    "                bug_fix.append(every_thing)\n",
    "        if medical in bug_fix:\n",
    "            perc=perc\n",
    "        else:\n",
    "            perc=perc+1\n",
    "    else:\n",
    "        print('error')\n",
    "    print(perc)\n",
    "\n"
   ]
  },
  {
   "cell_type": "markdown",
   "metadata": {},
   "source": [
    "计算负荷率"
   ]
  },
  {
   "cell_type": "code",
   "execution_count": 49,
   "metadata": {},
   "outputs": [],
   "source": [
    "count=range(1,27) #菌株数目\n",
    "count= list(count)"
   ]
  },
  {
   "cell_type": "code",
   "execution_count": 50,
   "metadata": {},
   "outputs": [
    {
     "name": "stdout",
     "output_type": "stream",
     "text": [
      "1\n",
      "2\n",
      "3\n",
      "4\n",
      "5\n",
      "6\n",
      "7\n",
      "8\n",
      "9\n",
      "10\n",
      "11\n",
      "12\n",
      "13\n",
      "14\n",
      "15\n",
      "15\n",
      "16\n",
      "17\n",
      "18\n",
      "18\n",
      "18\n",
      "18\n",
      "18\n",
      "19\n",
      "20\n",
      "20\n"
     ]
    }
   ],
   "source": [
    "for strain_number in count:\n",
    "    name=strain_name[strain_number]\n",
    "    strain_mic_info=mic_amp[strain_number]\n",
    "    if strain_mic_info == '0':\n",
    "        micinfo_0(strain_mic_info)\n",
    "    else:\n",
    "        micinfo_1(strain_mic_info)\n",
    "    strain_number=strain_number+1\n"
   ]
  },
  {
   "cell_type": "code",
   "execution_count": 51,
   "metadata": {},
   "outputs": [
    {
     "data": {
      "text/plain": [
       "0.7692307692307693"
      ]
     },
     "execution_count": 51,
     "metadata": {},
     "output_type": "execute_result"
    }
   ],
   "source": [
    "perc/26"
   ]
  }
 ],
 "metadata": {
  "interpreter": {
   "hash": "31f2aee4e71d21fbe5cf8b01ff0e069b9275f58929596ceb00d14d90e3e16cd6"
  },
  "kernelspec": {
   "display_name": "Python 3.8.9 64-bit",
   "language": "python",
   "name": "python3"
  },
  "language_info": {
   "codemirror_mode": {
    "name": "ipython",
    "version": 3
   },
   "file_extension": ".py",
   "mimetype": "text/x-python",
   "name": "python",
   "nbconvert_exporter": "python",
   "pygments_lexer": "ipython3",
   "version": "3.9.9"
  },
  "orig_nbformat": 4
 },
 "nbformat": 4,
 "nbformat_minor": 2
}
