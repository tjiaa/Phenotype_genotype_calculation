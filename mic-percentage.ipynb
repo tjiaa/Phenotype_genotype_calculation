{
 "cells": [
  {
   "cell_type": "code",
   "execution_count": 1,
   "metadata": {},
   "outputs": [],
   "source": [
    "import numpy as np\n",
    "import pandas as pd\n",
    "strain_number=8\n",
    "medical='Ampicillin'\n",
    "# medical='Gentamicin'  #########################\n",
    "perc=0"
   ]
  },
  {
   "cell_type": "code",
   "execution_count": 666,
   "metadata": {},
   "outputs": [],
   "source": [
    "gene_lib=pd.read_csv(\"gene_library.csv\")\n",
    "strain_info=pd.read_csv(\"strain_info.csv\")\n",
    "gene_index=strain_info[\"index\"]\n",
    "strain_name=strain_info[0:0]\n",
    "strain_name=list(strain_name)\n",
    "mic_info=pd.read_csv(\"mic-amp.csv\",header=0)  ####################\n",
    "mic_amp=mic_info[\"mic-amp\"]  ######################\n",
    "mic_amp=list(mic_amp)"
   ]
  },
  {
   "cell_type": "markdown",
   "metadata": {},
   "source": [
    "函数定义"
   ]
  },
  {
   "cell_type": "code",
   "execution_count": 667,
   "metadata": {},
   "outputs": [],
   "source": [
    "def micinfo_1(strain_mic_info):\n",
    "    global perc\n",
    "    if strain_mic_info == '1':\n",
    "        strain_gene_profile=strain_info[name]\n",
    "        strain_gene_profile=list(strain_gene_profile)\n",
    "        # for i in strain_gene_profile:\n",
    "        #     i=int(i)\n",
    "        #     strain_genee_profile.append(i)\n",
    "        b=[i for i,v in enumerate(strain_gene_profile) if v==1]     #查找1的位置\n",
    "        # b=[2,5,11]#调试使用\n",
    "        # print(b)\n",
    "        for item in b:\n",
    "            gene_name=gene_index[item]\n",
    "            gene_certain_profile=gene_lib[gene_name]\n",
    "            gene_certain_profile=list(gene_certain_profile)\n",
    "            if medical in gene_certain_profile:\n",
    "                perc=perc+1\n",
    "                break\n",
    "            else:\n",
    "                perc=perc\n",
    "    else:\n",
    "        print('warring')\n",
    "    print(perc)\n",
    "    "
   ]
  },
  {
   "cell_type": "code",
   "execution_count": 668,
   "metadata": {},
   "outputs": [],
   "source": [
    "def micinfo_0(strain_mic_info):\n",
    "    global perc\n",
    "    if strain_mic_info == '0':\n",
    "        strain_gene_profile=strain_info[name]\n",
    "        strain_gene_profile=list(strain_gene_profile)\n",
    "        # for i in strain_gene_profile:\n",
    "        #     i=int(i)\n",
    "        #     strain_genee_profile.append(i)\n",
    "        b=[i for i,v in enumerate(strain_gene_profile) if v==1]\n",
    "        for items in b:\n",
    "            gene_name=gene_index[items]\n",
    "            gene_certain_profile=gene_lib[gene_name]\n",
    "            gene_certain_profile=list(gene_certain_profile)\n",
    "            if medical in gene_certain_profile:\n",
    "                perc=perc\n",
    "            else:\n",
    "                perc=perc+1\n",
    "            break\n",
    "    else:\n",
    "        print('warring')\n",
    "    print(perc)"
   ]
  },
  {
   "cell_type": "markdown",
   "metadata": {},
   "source": [
    "计算负荷率"
   ]
  },
  {
   "cell_type": "code",
   "execution_count": 671,
   "metadata": {},
   "outputs": [],
   "source": [
    "count=range(1,170)\n",
    "count= list(count)"
   ]
  },
  {
   "cell_type": "code",
   "execution_count": null,
   "metadata": {},
   "outputs": [],
   "source": [
    "for strain_number in count:\n",
    "    name=strain_name[strain_number]\n",
    "    strain_mic_info=mic_amp[strain_number]\n",
    "    # strain_mic_info=int(strain_mic_info)\n",
    "    if strain_mic_info == '0':\n",
    "        micinfo_0(strain_mic_info)\n",
    "    else:\n",
    "        micinfo_1(strain_mic_info)\n",
    "    strain_number=strain_number+1\n"
   ]
  },
  {
   "cell_type": "code",
   "execution_count": 674,
   "metadata": {},
   "outputs": [
    {
     "data": {
      "text/plain": [
       "0.893491124260355"
      ]
     },
     "execution_count": 674,
     "metadata": {},
     "output_type": "execute_result"
    }
   ],
   "source": [
    "perc/169"
   ]
  }
 ],
 "metadata": {
  "interpreter": {
   "hash": "31f2aee4e71d21fbe5cf8b01ff0e069b9275f58929596ceb00d14d90e3e16cd6"
  },
  "kernelspec": {
   "display_name": "Python 3.8.9 64-bit",
   "language": "python",
   "name": "python3"
  },
  "language_info": {
   "codemirror_mode": {
    "name": "ipython",
    "version": 3
   },
   "file_extension": ".py",
   "mimetype": "text/x-python",
   "name": "python",
   "nbconvert_exporter": "python",
   "pygments_lexer": "ipython3",
   "version": "3.9.9"
  },
  "orig_nbformat": 4
 },
 "nbformat": 4,
 "nbformat_minor": 2
}
